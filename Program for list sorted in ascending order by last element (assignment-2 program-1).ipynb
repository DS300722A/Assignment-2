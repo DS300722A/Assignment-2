{
 "cells": [
  {
   "cell_type": "code",
   "execution_count": 1,
   "id": "e030dc40",
   "metadata": {},
   "outputs": [
    {
     "name": "stdout",
     "output_type": "stream",
     "text": [
      "List of Tuple before sorting : [(2, 5), (1, 2), (4, 4), (2, 3), (2, 1)]\n",
      "List of Tuple after sorting : [(2, 1), (1, 2), (2, 3), (4, 4), (2, 5)]\n"
     ]
    }
   ],
   "source": [
    "#Write a Python program to get a list, sorted in increasing order by the last element in each tuple from a given list of non-empty tuples\n",
    "#Sample List : [(2, 5), (1, 2), (4, 4), (2, 3), (2, 1)]\n",
    "#Expected Result : [(2, 1), (1, 2), (2, 3), (4, 4), (2, 5)]\n",
    "\n",
    "tupList =[(2, 5), (1, 2), (4, 4), (2, 3), (2, 1)]\n",
    "\n",
    "print(\"List of Tuple before sorting : \" + str(tupList))\n",
    "\n",
    "len_list = len(tupList); \n",
    "for i in range(0, len_list):\n",
    "    for j in range(0, len_list - i - 1):\n",
    "        if(tupList[j][-1] > tupList[j + 1][-1]):\n",
    "            swap = tupList[j]\n",
    "            tupList[j] = tupList[j + 1]\n",
    "            tupList[j + 1] = swap\n",
    "\n",
    "print(\"List of Tuple after sorting : \" + str(tupList))"
   ]
  },
  {
   "cell_type": "code",
   "execution_count": null,
   "id": "f5d10def",
   "metadata": {},
   "outputs": [],
   "source": []
  }
 ],
 "metadata": {
  "kernelspec": {
   "display_name": "Python 3 (ipykernel)",
   "language": "python",
   "name": "python3"
  },
  "language_info": {
   "codemirror_mode": {
    "name": "ipython",
    "version": 3
   },
   "file_extension": ".py",
   "mimetype": "text/x-python",
   "name": "python",
   "nbconvert_exporter": "python",
   "pygments_lexer": "ipython3",
   "version": "3.9.12"
  }
 },
 "nbformat": 4,
 "nbformat_minor": 5
}
